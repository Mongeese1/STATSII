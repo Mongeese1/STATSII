{
 "cells": [
  {
   "cell_type": "code",
   "execution_count": 71,
   "metadata": {},
   "outputs": [
    {
     "name": "stdout",
     "output_type": "stream",
     "text": [
      "[57.5, 77.95, 81.4, 82.4]\n",
      "0     3\n",
      "1     2\n",
      "2     2\n",
      "3     0\n",
      "4     2\n",
      "5     1\n",
      "6     0\n",
      "7     1\n",
      "8     1\n",
      "9     0\n",
      "10    2\n",
      "11    2\n",
      "12    1\n",
      "13    2\n",
      "14    0\n",
      "15    2\n",
      "16    2\n",
      "17    3\n",
      "18    3\n",
      "19    3\n",
      "20    2\n",
      "21    0\n",
      "22    0\n",
      "23    3\n",
      "24    0\n",
      "25    2\n",
      "26    2\n",
      "27    3\n",
      "28    1\n",
      "29    1\n",
      "30    0\n",
      "31    0\n",
      "32    1\n",
      "34    3\n",
      "35    2\n",
      "36    3\n",
      "37    1\n",
      "38    1\n",
      "39    1\n",
      "Name: wlblP, dtype: category\n",
      "Categories (4, int64): [0 < 1 < 2 < 3]\n",
      "0     32759.0\n",
      "1     33541.0\n",
      "2     30364.0\n",
      "4     30854.0\n",
      "7     21453.0\n",
      "8     29606.0\n",
      "9     19697.0\n",
      "10    29943.0\n",
      "11    31304.0\n",
      "12    34294.0\n",
      "13    17700.0\n",
      "16    25310.0\n",
      "18    26588.0\n",
      "19    29798.0\n",
      "20    21882.0\n",
      "21    16275.0\n",
      "22    21660.0\n",
      "23    39264.0\n",
      "25    29333.0\n",
      "27    35725.0\n",
      "28    19814.0\n",
      "29    21203.0\n",
      "31    20474.0\n",
      "32    20820.0\n",
      "34    23999.0\n",
      "35    31287.0\n",
      "36    37466.0\n",
      "38    28715.0\n",
      "39    45284.0\n",
      "Name: IncomeDisposable, dtype: float64\n",
      "F_onewayResult(statistic=3.503183695254874, pvalue=0.030090808863180173)\n"
     ]
    }
   ],
   "source": [
    "import pandas as pd\n",
    "import researchpy as py\n",
    "import scipy.stats as stats\n",
    "import numpy as np\n",
    "import matplotlib.pyplot as plt\n",
    "\n",
    "#####KEEP CATEGORY OF INTEREST IN POS 0\n",
    "\n",
    "cat = ['IncomeDisposable','HealthLifeExpect']\n",
    "\n",
    "def readcsv(name, cat_Type, *categories):\n",
    "    df = pd.read_csv(name)\n",
    "\n",
    "\n",
    "    df = df.replace(r'^\\s*$', np.nan, regex=True)\n",
    "\n",
    "    for category in categories:\n",
    "        df[category] = df[category].astype(cat_Type)\n",
    "        \n",
    "    return df\n",
    "\n",
    "df =readcsv('2020Data.csv',float,cat)\n",
    "\n",
    "wlbh13 =  df[cat[0]].dropna()\n",
    "wlbl13 = df[cat[1]].dropna()\n",
    "\n",
    "def percentiles(dfz,percentile,label,cat_v ,percentile_cat):\n",
    "    \n",
    "    percentile_label = []\n",
    "    cat_Var = []\n",
    "\n",
    "    for i in percentile:#can add bins here, for now not necessary but will allow cuts into more percentiles\n",
    "         percentile_label.append(np.nanpercentile(dfz[percentile_cat],i))\n",
    "            \n",
    "    dfz[cat_v] = pd.cut(dfz[percentile_cat],\n",
    "                             bins = [percentile_label[0],percentile_label[1],percentile_label[2],\n",
    "                                     percentile_label[3],float('Inf')],\n",
    "                             labels =label, precision = 4 )\n",
    "#         print(category[z])\n",
    "    cat_Var.append(dfz[percentile_cat].dropna())\n",
    "#         print(z)\n",
    "\n",
    "    print(percentile_label)\n",
    "    return dfz,cat_Var\n",
    "\n",
    "df,cat_Var = percentiles(df,[0,25,50,75],[0,1,2,3],'wlblP',cat[1])\n",
    "\n",
    "# print(df['wlblP'])\n",
    "# print(df[cat[0]])\n",
    "\n",
    "new_df = df[[cat[0],cat[1],'wlblP']]\n",
    "new_df = new_df.dropna()\n",
    "\n",
    "ANOVA =stats.f_oneway(new_df[cat[0]][new_df['wlblP']==0],\n",
    "              new_df[cat[0]][new_df['wlblP']==1],\n",
    "              new_df[cat[0]][new_df['wlblP']==2],\n",
    "              new_df[cat[0]][new_df['wlblP']==3],)\n",
    "\n",
    "\n",
    "\n",
    "print(df['wlblP'].dropna())\n",
    "print(wlbh13)\n",
    "print(ANOVA)\n",
    "##p val less than alpha, significant result, wlbl and wlbh have significant difference"
   ]
  },
  {
   "cell_type": "code",
   "execution_count": 72,
   "metadata": {},
   "outputs": [
    {
     "data": {
      "image/png": "[encoded data removed]",
      "text/plain": [
       "<Figure size 432x288 with 1 Axes>"
      ]
     },
     "metadata": {
      "needs_background": "light"
     },
     "output_type": "display_data"
    }
   ],
   "source": [
    "mu,std = stats.norm.fit(wlbh13)\n",
    "\n",
    "plt.hist(wlbh13, bins=25, density = True, alpha=0.6, color = 'y')\n",
    "xmin,xmax = plt.xlim()\n",
    "x = np.linspace(xmin,xmax,100)\n",
    "p = stats.norm.pdf(x,mu,std)\n",
    "plt.plot(x,p,'k',linewidth = 2)\n",
    "title = \"Fit HealthLifeExpect and normal curve\"\n",
    "plt.title(title)\n",
    "plt.show()"
   ]
  },
  {
   "cell_type": "code",
   "execution_count": 73,
   "metadata": {},
   "outputs": [
    {
     "data": {
      "image/png": "[encoded data removed]",
      "text/plain": [
       "<Figure size 432x288 with 1 Axes>"
      ]
     },
     "metadata": {
      "needs_background": "light"
     },
     "output_type": "display_data"
    }
   ],
   "source": [
    "mu,std = stats.norm.fit(wlbl13)\n",
    "\n",
    "plt.hist(wlbl13, bins=25, density = True, alpha=0.6, color = 'y')\n",
    "xmin,xmax = plt.xlim()\n",
    "x = np.linspace(xmin,xmax,100)\n",
    "p = stats.norm.pdf(x,mu,std)\n",
    "plt.plot(x,p,'k',linewidth = 2)\n",
    "title = \"Fit IncomeDisp and normal curve\"\n",
    "plt.title(title)\n",
    "plt.show()"
   ]
  },
  {
   "cell_type": "code",
   "execution_count": 74,
   "metadata": {},
   "outputs": [
    {
     "data": {
      "text/plain": [
       "LeveneResult(statistic=2.2687311699750285, pvalue=0.10519412407699474)"
      ]
     },
     "execution_count": 74,
     "metadata": {},
     "output_type": "execute_result"
    }
   ],
   "source": [
    "stats.levene(df[cat[0]][df['wlblP']==0].dropna(),\n",
    "              df[cat[0]][df['wlblP']==1].dropna(),\n",
    "              df[cat[0]][df['wlblP']==2].dropna(),\n",
    "              df[cat[0]][df['wlblP']==3].dropna(),center = 'mean')\n",
    "\n",
    "##from levene test samples have diff variances, also obv by looking at norm plot and box plot\n"
   ]
  },
  {
   "cell_type": "code",
   "execution_count": 75,
   "metadata": {},
   "outputs": [
    {
     "data": {
      "image/png": "[encoded data removed]",
      "text/plain": [
       "<Figure size 720x720 with 1 Axes>"
      ]
     },
     "metadata": {
      "needs_background": "light"
     },
     "output_type": "display_data"
    }
   ],
   "source": [
    "fig = plt.figure(figsize= (10, 10))\n",
    "ax = fig.add_subplot(111)\n",
    "\n",
    "ax.set_title(\"Box Plot of WorkLifeBalance Long hours by percentile of worklifebalance leisure\", fontsize= 20)\n",
    "ax.set\n",
    "\n",
    "data = [df[cat[0]][df['wlblP']==0].dropna(),\n",
    "              df[cat[0]][df['wlblP']==1].dropna(),\n",
    "              df[cat[0]][df['wlblP']==2].dropna(),\n",
    "              df[cat[0]][df['wlblP']==3].dropna()]\n",
    "\n",
    "ax.boxplot(data,\n",
    "           labels= ['0th percentile', '25th percentile', 'median','75th percentile'],\n",
    "           showmeans= True)\n",
    "\n",
    "plt.xlabel(\"Percentile of leisure\")\n",
    "plt.ylabel(\"Worklife Long hours\")\n",
    "\n",
    "plt.show()"
   ]
  },
  {
   "cell_type": "code",
   "execution_count": 76,
   "metadata": {},
   "outputs": [
    {
     "data": {
      "text/plain": [
       "F_onewayResult(statistic=11.410294193872785, pvalue=0.035873670710534745)"
      ]
     },
     "execution_count": 76,
     "metadata": {},
     "output_type": "execute_result"
    }
   ],
   "source": [
    "from collections import namedtuple\n",
    "def welch_anova_np(*args, var_equal=False):\n",
    "    # https://svn.r-project.org/R/trunk/src/library/stats/R/oneway.test.R\n",
    "    # translated from R Welch ANOVA (not assuming equal variance)\n",
    "\n",
    "    F_onewayResult = namedtuple('F_onewayResult', ('statistic', 'pvalue'))\n",
    "\n",
    "    args = [np.asarray(arg, dtype=float) for arg in args]\n",
    "    k = len(args)\n",
    "    ni =np.array([len(arg) for arg in args])\n",
    "    mi =np.array([np.mean(arg) for arg in args])\n",
    "    vi =np.array([np.var(arg,ddof=1) for arg in args])\n",
    "    wi = ni/vi\n",
    "\n",
    "    tmp =sum((1-wi/sum(wi))**2 / (ni-1))\n",
    "    tmp /= (k**2 -1)\n",
    "\n",
    "    dfbn = k - 1\n",
    "    dfwn = 1 / (3 * tmp)\n",
    "\n",
    "    m = sum(mi*wi) / sum(wi)\n",
    "    f = sum(wi * (mi - m)**2) /((dfbn) * (1 + 2 * (dfbn - 1) * tmp))\n",
    "    prob = stats.f.sf(dfbn, dfwn, f)\n",
    "    return F_onewayResult(f, prob)\n",
    "\n",
    "welch_anova_np(new_df[cat[0]][new_df['wlblP']==0],\n",
    "              new_df[cat[0]][new_df['wlblP']==1],\n",
    "              new_df[cat[0]][new_df['wlblP']==2],\n",
    "              new_df[cat[0]][new_df['wlblP']==3])"
   ]
  },
  {
   "cell_type": "code",
   "execution_count": 77,
   "metadata": {},
   "outputs": [
    {
     "data": {
      "text/html": [
       "<div>\n",
       "<style scoped>\n",
       "    .dataframe tbody tr th:only-of-type {\n",
       "        vertical-align: middle;\n",
       "    }\n",
       "\n",
       "    .dataframe tbody tr th {\n",
       "        vertical-align: top;\n",
       "    }\n",
       "\n",
       "    .dataframe thead th {\n",
       "        text-align: right;\n",
       "    }\n",
       "</style>\n",
       "<table border=\"1\" class=\"dataframe\">\n",
       "  <thead>\n",
       "    <tr style=\"text-align: right;\">\n",
       "      <th></th>\n",
       "      <th>1</th>\n",
       "      <th>2</th>\n",
       "      <th>3</th>\n",
       "    </tr>\n",
       "  </thead>\n",
       "  <tbody>\n",
       "    <tr>\n",
       "      <th>1</th>\n",
       "      <td>1.000000e+00</td>\n",
       "      <td>6.079343e-06</td>\n",
       "      <td>4.870031e-22</td>\n",
       "    </tr>\n",
       "    <tr>\n",
       "      <th>2</th>\n",
       "      <td>6.079343e-06</td>\n",
       "      <td>1.000000e+00</td>\n",
       "      <td>1.986628e-08</td>\n",
       "    </tr>\n",
       "    <tr>\n",
       "      <th>3</th>\n",
       "      <td>4.870031e-22</td>\n",
       "      <td>1.986628e-08</td>\n",
       "      <td>1.000000e+00</td>\n",
       "    </tr>\n",
       "  </tbody>\n",
       "</table>\n",
       "</div>"
      ],
      "text/plain": [
       "              1             2             3\n",
       "1  1.000000e+00  6.079343e-06  4.870031e-22\n",
       "2  6.079343e-06  1.000000e+00  1.986628e-08\n",
       "3  4.870031e-22  1.986628e-08  1.000000e+00"
      ]
     },
     "execution_count": 77,
     "metadata": {},
     "output_type": "execute_result"
    }
   ],
   "source": [
    "from scikit_posthocs import posthoc_dunn\n",
    "\n",
    "g1 = df[cat[0]].dropna()\n",
    "g2 = df[cat[1]].dropna()\n",
    "g3 = df['wlblP'].dropna()\n",
    "\n",
    "data = [g1,g2,g3]\n",
    "\n",
    "posthoc_dunn(data)"
   ]
  }
 ],
 "metadata": {
  "kernelspec": {
   "display_name": "Python 3",
   "language": "python",
   "name": "python3"
  },
  "language_info": {
   "codemirror_mode": {
    "name": "ipython",
    "version": 3
   },
   "file_extension": ".py",
   "mimetype": "text/x-python",
   "name": "python",
   "nbconvert_exporter": "python",
   "pygments_lexer": "ipython3",
   "version": "3.8.3"
  }
 },
 "nbformat": 4,
 "nbformat_minor": 4
}
